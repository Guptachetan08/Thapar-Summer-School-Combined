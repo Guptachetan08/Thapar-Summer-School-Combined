{
  "nbformat": 4,
  "nbformat_minor": 0,
  "metadata": {
    "colab": {
      "provenance": [],
      "authorship_tag": "ABX9TyO3PiQPyDvKmrXk+OsqJJy7",
      "include_colab_link": true
    },
    "kernelspec": {
      "name": "python3",
      "display_name": "Python 3"
    },
    "language_info": {
      "name": "python"
    }
  },
  "cells": [
    {
      "cell_type": "markdown",
      "metadata": {
        "id": "view-in-github",
        "colab_type": "text"
      },
      "source": [
        "<a href=\"https://colab.research.google.com/github/Guptachetan08/Thapar-Summer-School-Combined/blob/main/MarksAdding.ipynb\" target=\"_parent\"><img src=\"https://colab.research.google.com/assets/colab-badge.svg\" alt=\"Open In Colab\"/></a>"
      ]
    },
    {
      "cell_type": "code",
      "source": [
        "from google.colab import drive\n",
        "drive.mount('/content/drive')\n",
        "\n",
        "import csv\n",
        "from collections import defaultdict\n",
        "\n",
        "# Define input and output file names\n",
        "input_file = '/content/drive/MyDrive/marksAdding/marks.csv'\n",
        "output_file = 'resultOutput.csv'\n"
      ],
      "metadata": {
        "id": "zOLvSRQc1q4Z",
        "colab": {
          "base_uri": "https://localhost:8080/"
        },
        "outputId": "b6c24397-131e-4d45-883e-e80e7b3e1539"
      },
      "execution_count": 1,
      "outputs": [
        {
          "output_type": "stream",
          "name": "stdout",
          "text": [
            "Mounted at /content/drive\n"
          ]
        }
      ]
    },
    {
      "cell_type": "code",
      "source": [
        "# Dictionary to hold roll number and aggregated marks\n",
        "roll_marks = defaultdict(int)\n",
        "\n",
        "# Read the input CSV file\n",
        "with open(input_file, mode='r') as csvfile:\n",
        "    csvreader = csv.reader(csvfile)\n",
        "    # Skip header row if it exists\n",
        "    next(csvreader, None)\n",
        "\n",
        "    for row in csvreader:\n",
        "        roll_no, marks = row\n",
        "        roll_no = int(roll_no)\n",
        "        marks = int(marks)\n",
        "        roll_marks[roll_no] += marks\n",
        "\n",
        "# Write the results to a new CSV file\n",
        "with open(output_file, mode='w', newline='') as csvfile:\n",
        "    csvwriter = csv.writer(csvfile)\n",
        "    # Write header row\n",
        "    csvwriter.writerow(['Roll No', 'Total Marks'])\n",
        "\n",
        "    for roll_no, total_marks in roll_marks.items():\n",
        "        csvwriter.writerow([roll_no, total_marks])\n",
        "\n",
        "print(f'Results have been written to {output_file}')\n"
      ],
      "metadata": {
        "colab": {
          "base_uri": "https://localhost:8080/"
        },
        "id": "cQ3-UThSpZUF",
        "outputId": "12fc6355-d344-4114-c876-8cb0ac4aed29"
      },
      "execution_count": 2,
      "outputs": [
        {
          "output_type": "stream",
          "name": "stdout",
          "text": [
            "Results have been written to resultOutput.csv\n"
          ]
        }
      ]
    },
    {
      "cell_type": "code",
      "source": [],
      "metadata": {
        "id": "OBz5rF0ppvzJ"
      },
      "execution_count": null,
      "outputs": []
    }
  ]
}