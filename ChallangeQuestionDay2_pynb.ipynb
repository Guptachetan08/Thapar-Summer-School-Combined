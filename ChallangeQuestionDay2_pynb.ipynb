{
  "nbformat": 4,
  "nbformat_minor": 0,
  "metadata": {
    "colab": {
      "provenance": [],
      "authorship_tag": "ABX9TyMv29UKKgZZCS5L61SV0iQa",
      "include_colab_link": true
    },
    "kernelspec": {
      "name": "python3",
      "display_name": "Python 3"
    },
    "language_info": {
      "name": "python"
    }
  },
  "cells": [
    {
      "cell_type": "markdown",
      "metadata": {
        "id": "view-in-github",
        "colab_type": "text"
      },
      "source": [
        "<a href=\"https://colab.research.google.com/github/Guptachetan08/Thapar-Summer-School-Combined/blob/main/ChallangeQuestionDay2_pynb.ipynb\" target=\"_parent\"><img src=\"https://colab.research.google.com/assets/colab-badge.svg\" alt=\"Open In Colab\"/></a>"
      ]
    },
    {
      "cell_type": "code",
      "execution_count": null,
      "metadata": {
        "colab": {
          "base_uri": "https://localhost:8080/"
        },
        "id": "172_fqrDtkje",
        "outputId": "8814e76e-8bea-4d27-c074-51407a7c7120"
      },
      "outputs": [
        {
          "output_type": "stream",
          "name": "stdout",
          "text": [
            "['ram', '1', 'shayam', '2', 'aman']\n",
            "['1', '2', 'aman', 'ram', 'shayam']\n",
            "[1, 2, 'aman', 'ram', 'shayam']\n",
            "Total time:  0.0019366741180419922\n"
          ]
        }
      ],
      "source": [
        "import time\n",
        "\n",
        "t1 = time.time()\n",
        "\n",
        "L = [\"ram\",1,\"shayam\",2, \"aman\"]\n",
        "L = [str(i) for i in L]\n",
        "\n",
        "print(L)\n",
        "L.sort()\n",
        "print(L)\n",
        "\n",
        "L1 =[]\n",
        "\n",
        "for i in L:\n",
        "  try:\n",
        "    L1.append(int(i))\n",
        "  except:\n",
        "    L1.append(i)\n",
        "\n",
        "print(L1)\n",
        "\n",
        "t2 = time.time()\n",
        "\n",
        "print(\"Total time: \", t2-t1)\n"
      ]
    },
    {
      "cell_type": "code",
      "source": [],
      "metadata": {
        "id": "gf-UmoBStwrQ"
      },
      "execution_count": null,
      "outputs": []
    }
  ]
}